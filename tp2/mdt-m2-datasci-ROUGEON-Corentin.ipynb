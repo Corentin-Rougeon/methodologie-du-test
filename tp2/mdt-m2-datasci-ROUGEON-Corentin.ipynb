{
 "cells": [
  {
   "cell_type": "markdown",
   "source": [
    "## Initiation"
   ],
   "metadata": {
    "collapsed": false
   },
   "id": "82c96f913c88a5b2"
  },
  {
   "cell_type": "code",
   "execution_count": null,
   "outputs": [],
   "source": [
    "import pytest\n",
    "from src.tasks import app, worth\n",
    "\n",
    "@pytest.fixture\n",
    "def test_app():\n",
    "    app.config.update({\"TESTING\": True})\n",
    "    return app\n",
    "\n",
    "@pytest.fixture\n",
    "def client(test_app):\n",
    "    return test_app.test_client()\n",
    "\n",
    "body = {\n",
    "    \"title\": \"test_task\",\n",
    "    \"description\": \"this is a test task\",\n",
    "    \"priority\": 2,\n",
    "    \"difficulty\": 2,\n",
    "    \"due_date\": \"2025-10-20\"\n",
    "}"
   ],
   "metadata": {
    "collapsed": false
   },
   "id": "860449566a1489dc"
  },
  {
   "cell_type": "markdown",
   "source": [
    "## Étape 1 : Tests Fonctionnels et Boîte Noire"
   ],
   "metadata": {
    "collapsed": false
   },
   "id": "e86a8d8a1ee8e2ec"
  },
  {
   "cell_type": "code",
   "execution_count": null,
   "id": "initial_id",
   "metadata": {
    "collapsed": true
   },
   "outputs": [],
   "source": [
    "def test_add_task(client):\n",
    "    with app.app_context():\n",
    "        response = client.post('/tasks', json=body)\n",
    "        assert response.status_code == 201\n",
    "        task_data = response.get_json()\n",
    "        assert task_data[\"title\"] == body[\"title\"]\n",
    "        assert task_data[\"priority\"] == body[\"priority\"]\n",
    "        assert task_data[\"difficulty\"] == body[\"difficulty\"]\n",
    "\n",
    "def test_complete_task(client):\n",
    "    with app.app_context():\n",
    "        response = client.post('/tasks', json=body)\n",
    "        task_id = response.get_json()[\"id\"]\n",
    "\n",
    "        response = client.post(f\"/tasks/{task_id}/complete\")\n",
    "        assert response.status_code == 200\n",
    "        assert response.get_json()[\"message\"] == \"Tâche marquée comme terminée\"\n",
    "\n",
    "def test_cleanup_tasks(client):\n",
    "    with app.app_context():\n",
    "        past_task = body.copy()\n",
    "        past_task[\"due_date\"] = \"2022-01-01\"\n",
    "        client.post(\"/tasks\", json=past_task)\n",
    "\n",
    "        response = client.delete(\"/tasks/cleanup\")\n",
    "        assert response.status_code == 200\n",
    "        assert \"tâches obsolètes ou complétées supprimées\" in response.get_json()[\"message\"]"
   ]
  },
  {
   "cell_type": "markdown",
   "source": [
    "## Étape 2 : Tests Boîte Blanche et Couverture de Code"
   ],
   "metadata": {
    "collapsed": false
   },
   "id": "cd8f565cdadb33e4"
  },
  {
   "cell_type": "code",
   "execution_count": null,
   "outputs": [],
   "source": [
    "def test_is_date_and_in_past():\n",
    "    assert is_date_and_in_past(\"2020-01-01\") == True\n",
    "    assert is_date_and_in_past(\"2099-01-01\") == False\n",
    "    assert is_date_and_in_past(None) == False\n",
    "\n",
    "def test_worth_calculation():\n",
    "    assert worth(priority=2, difficulty=3, due_date=\"2020-01-01\") == 30  # Past date, score halved\n",
    "    assert worth(priority=2, difficulty=3, due_date=\"2099-01-01\") == 60  # Future date, full score"
   ],
   "metadata": {
    "collapsed": false
   },
   "id": "15e575fceb41c0d"
  },
  {
   "cell_type": "markdown",
   "source": [
    "## Étape 3 : Utilisation de Mocks"
   ],
   "metadata": {
    "collapsed": false
   },
   "id": "166991cde3bb058e"
  },
  {
   "cell_type": "code",
   "execution_count": null,
   "outputs": [],
   "source": [
    "def test_task_lifecycle(client):\n",
    "    with app.app_context():\n",
    "        response = client.post(\"/tasks\", json=body)\n",
    "        task_id = response.get_json()[\"id\"]\n",
    "\n",
    "        response = client.get(\"/tasks/active\")\n",
    "        active_tasks = response.get_json()\n",
    "        assert any(task[\"id\"] == task_id for task in active_tasks), \"Task should be active after creation.\"\n",
    "\n",
    "        response = client.post(f\"/tasks/{task_id}/complete\")\n",
    "        assert response.status_code == 200\n",
    "        assert response.get_json()[\"message\"] == \"Tâche marquée comme terminée\"\n",
    "\n",
    "        response = client.get(\"/tasks/active\")\n",
    "        active_tasks = response.get_json()\n",
    "        assert not any(task[\"id\"] == task_id for task in active_tasks), \"Completed task should not appear in active tasks.\"\n",
    "\n",
    "        response = client.delete(\"/tasks/cleanup\")\n",
    "        assert response.status_code == 200\n",
    "\n",
    "        response = client.get(f\"/tasks/{task_id}\")\n",
    "        assert response.status_code == 404, \"Task should not exist after cleanup.\""
   ],
   "metadata": {
    "collapsed": false
   },
   "id": "2ed3c2d887000a08"
  },
  {
   "cell_type": "markdown",
   "source": [
    "mock permet d'isoler des parties du code, ce qui autorise de tester des fonction non implementer et de les tester dans d'autres circonstances"
   ],
   "metadata": {
    "collapsed": false
   },
   "id": "ff7ad74966e13a8b"
  },
  {
   "cell_type": "markdown",
   "source": [
    "## Étape 4 : Tests Bout-en-Bout (E2E)"
   ],
   "metadata": {
    "collapsed": false
   },
   "id": "5c8881d6209dafd1"
  },
  {
   "cell_type": "code",
   "execution_count": null,
   "outputs": [],
   "source": [
    "def test_total_score(client):\n",
    "    with app.app_context():\n",
    "        response = client.post(\"/tasks\", json=body)\n",
    "        task_id1 = response.get_json()[\"id\"]\n",
    "        client.post(f\"/tasks/{task_id1}/complete\")\n",
    "\n",
    "        another_task = body.copy()\n",
    "        another_task[\"title\"] = \"another_test_task\"\n",
    "        response = client.post(\"/tasks\", json=another_task)\n",
    "        task_id2 = response.get_json()[\"id\"]\n",
    "        client.post(f\"/tasks/{task_id2}/complete\")\n",
    "\n",
    "        response = client.get(\"/scores/total\")\n",
    "        assert response.status_code == 200\n",
    "        assert response.get_json()[\"total_score\"] > 0 "
   ],
   "metadata": {
    "collapsed": false
   },
   "id": "411bd3780a183ad1"
  },
  {
   "cell_type": "markdown",
   "source": [
    "## Étape 5 : Tests d'Intégration et Validation de l'État de la Base de Données"
   ],
   "metadata": {
    "collapsed": false
   },
   "id": "bc9984c502f7f4b9"
  },
  {
   "cell_type": "code",
   "execution_count": null,
   "outputs": [],
   "source": [
    "def test_total_score(client):\n",
    "    with app.app_context():\n",
    "        response = client.post(\"/tasks\", json=body)\n",
    "        task_id1 = response.get_json()[\"id\"]\n",
    "        client.post(f\"/tasks/{task_id1}/complete\")\n",
    "\n",
    "        another_task = body.copy()\n",
    "        another_task[\"title\"] = \"another_test_task\"\n",
    "        response = client.post(\"/tasks\", json=another_task)\n",
    "        task_id2 = response.get_json()[\"id\"]\n",
    "        client.post(f\"/tasks/{task_id2}/complete\")\n",
    "\n",
    "        response = client.get(\"/scores/total\")\n",
    "        assert response.status_code == 200\n",
    "        assert response.get_json()[\"total_score\"] > 0"
   ],
   "metadata": {
    "collapsed": false
   },
   "id": "908a2e5704091347"
  },
  {
   "cell_type": "markdown",
   "source": [
    "## Étape 6 : Génération de Rapport de Tests"
   ],
   "metadata": {
    "collapsed": false
   },
   "id": "f1a264cf4548e333"
  },
  {
   "cell_type": "markdown",
   "source": [
    "pour voir la couverture des test on genere un rapport html avec `pytest --cov=src --cov-report=html`,\n",
    "\n",
    "- il n'est pas possible de tester le cas de \"pas de tache active\", car il n'y a pas de moyen de metre la base de donnée a zero\n",
    "- ce n'est pas possible de tester init_db() ou app.run()"
   ],
   "metadata": {
    "collapsed": false
   },
   "id": "e87e46e37c518fc0"
  },
  {
   "cell_type": "markdown",
   "source": [
    "[lien git](https://github.com/Corentin-Rougeon/methodologie-du-test/tree/main)"
   ],
   "metadata": {
    "collapsed": false
   },
   "id": "ddc32eb0bb438394"
  }
 ],
 "metadata": {
  "kernelspec": {
   "display_name": "Python 3",
   "language": "python",
   "name": "python3"
  },
  "language_info": {
   "codemirror_mode": {
    "name": "ipython",
    "version": 2
   },
   "file_extension": ".py",
   "mimetype": "text/x-python",
   "name": "python",
   "nbconvert_exporter": "python",
   "pygments_lexer": "ipython2",
   "version": "2.7.6"
  }
 },
 "nbformat": 4,
 "nbformat_minor": 5
}
